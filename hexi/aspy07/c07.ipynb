{
 "cells": [
  {
   "cell_type": "markdown",
   "id": "44ad2f06-a75a-465b-bc3c-77bc02c4c94b",
   "metadata": {},
   "source": [
    "## Chapter 7 of Pasha"
   ]
  },
  {
   "cell_type": "code",
   "execution_count": null,
   "id": "eeb199b7-1c53-4345-909f-a9632c0ff7f6",
   "metadata": {},
   "outputs": [],
   "source": []
  }
 ],
 "metadata": {
  "kernelspec": {
   "display_name": "Python 3 (ipykernel)",
   "language": "python",
   "name": "python3"
  },
  "language_info": {
   "codemirror_mode": {
    "name": "ipython",
    "version": 3
   },
   "file_extension": ".py",
   "mimetype": "text/x-python",
   "name": "python",
   "nbconvert_exporter": "python",
   "pygments_lexer": "ipython3",
   "version": "3.11.12"
  }
 },
 "nbformat": 4,
 "nbformat_minor": 5
}
