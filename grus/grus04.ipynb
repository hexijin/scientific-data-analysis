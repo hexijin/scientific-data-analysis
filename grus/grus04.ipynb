{
 "cells": [
  {
   "cell_type": "markdown",
   "id": "9268a677-c837-4b15-b121-8f714c73c06b",
   "metadata": {},
   "source": [
    "# Chapter 4 &mdash; Linear Algebra"
   ]
  },
  {
   "cell_type": "markdown",
   "id": "32195a31-4c39-4dad-a53a-ce02768956fa",
   "metadata": {},
   "source": [
    "## Vectors"
   ]
  },
  {
   "cell_type": "code",
   "execution_count": 1,
   "id": "a50d79d5-db24-4925-8207-3d5b7ca86b10",
   "metadata": {},
   "outputs": [],
   "source": [
    "from typing import List\n",
    "\n",
    "Vector = List[float]\n",
    "\n",
    "height_weight_age = [70,  # inches\n",
    "                     170, # pounds\n",
    "                     40 ] # years\n",
    "\n",
    "grades = [95,   # exam 1\n",
    "          80,   # exam 2\n",
    "          75,   # exam 3\n",
    "          62 ]  # exam 4\n"
   ]
  },
  {
   "cell_type": "code",
   "execution_count": null,
   "id": "3998d7da-5bc8-4d99-aa5d-322e2e04616e",
   "metadata": {},
   "outputs": [],
   "source": []
  }
 ],
 "metadata": {
  "kernelspec": {
   "display_name": "Python 3 (ipykernel)",
   "language": "python",
   "name": "python3"
  },
  "language_info": {
   "codemirror_mode": {
    "name": "ipython",
    "version": 3
   },
   "file_extension": ".py",
   "mimetype": "text/x-python",
   "name": "python",
   "nbconvert_exporter": "python",
   "pygments_lexer": "ipython3",
   "version": "3.12.2"
  }
 },
 "nbformat": 4,
 "nbformat_minor": 5
}
