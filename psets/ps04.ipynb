{
 "cells": [
  {
   "cell_type": "markdown",
   "id": "cb499550-d769-4478-8650-977525e5326d",
   "metadata": {},
   "source": [
    "## PS04 &mdash; Pasha pp. 7-9 to 7-12"
   ]
  },
  {
   "cell_type": "markdown",
   "id": "87719198-7beb-4aaf-a6f9-a7f29076c9b8",
   "metadata": {},
   "source": [
    "### Exercise 8.1"
   ]
  },
  {
   "cell_type": "code",
   "execution_count": 12,
   "id": "8ed29d48-de0c-4648-b1f4-4956397229e9",
   "metadata": {},
   "outputs": [
    {
     "data": {
      "text/latex": [
       "$22.408289 \\; \\mathrm{\\frac{L_{\\odot}}{Mpc^{2}}}$"
      ],
      "text/plain": [
       "<Quantity 22.40828861 solLum / Mpc2>"
      ]
     },
     "execution_count": 12,
     "metadata": {},
     "output_type": "execute_result"
    }
   ],
   "source": [
    "import numpy as np\n",
    "import matplotlib.pyplot as plt\n",
    "\n",
    "import astropy.units as u\n",
    "import astropy.constants as ac\n",
    "from astropy.cosmology import WMAP9 as cosmo\n",
    "\n",
    "D_L = cosmo.comoving_distance(z=2.5)\n",
    "\n",
    "L = 10**10 * u.Lsun\n",
    "F = L / (4 * np.pi * D_L**2)\n",
    "F"
   ]
  },
  {
   "cell_type": "markdown",
   "id": "71a58e3c-787b-4da5-bc17-df29ed23b3f0",
   "metadata": {},
   "source": [
    "### Exercise 8.2"
   ]
  },
  {
   "cell_type": "code",
   "execution_count": 43,
   "id": "747597d1-1e0d-4044-a053-658a3bb47fda",
   "metadata": {},
   "outputs": [],
   "source": [
    "# As Pasha suggests, let's plot d_A for a variety of redshifts\n",
    "\n",
    "# If d_A (for some redshift) is 1pc then if it is appears to be an\n",
    "# arcsecond across, it is 1pc wide.\n",
    "\n",
    "some_zs = np.linspace(0.0, 4.0, 401)"
   ]
  },
  {
   "cell_type": "code",
   "execution_count": 44,
   "id": "7fe85ad6-5d0e-4fd3-855d-18946a9a4f68",
   "metadata": {},
   "outputs": [],
   "source": [
    "some_d_As = [cosmo.angular_diameter_distance(z=z) for z in some_zs]\n",
    "values = [d_A.value for d_A in some_d_As]"
   ]
  },
  {
   "cell_type": "code",
   "execution_count": 45,
   "id": "19f8d27e-f3e6-4f7c-aa75-9c11cca124c3",
   "metadata": {},
   "outputs": [
    {
     "data": {
      "image/png": "[encoded data removed]",
      "text/plain": [
       "<Figure size 1000x300 with 1 Axes>"
      ]
     },
     "metadata": {},
     "output_type": "display_data"
    }
   ],
   "source": [
    "fig, ax = plt.subplots(figsize=(10,3))\n",
    "\n",
    "ax.plot(some_zs, values, label='d_A', color='r')\n",
    "ax.set_xlabel('z')\n",
    "ax.set_ylabel('d_A (Mpc)');"
   ]
  },
  {
   "cell_type": "code",
   "execution_count": 46,
   "id": "d2d29644-c109-4cac-9070-908fd98cf055",
   "metadata": {},
   "outputs": [
    {
     "data": {
      "text/latex": [
       "$1573.8005 \\; \\mathrm{Mpc}$"
      ],
      "text/plain": [
       "<Quantity 1573.80047167 Mpc>"
      ]
     },
     "execution_count": 46,
     "metadata": {},
     "output_type": "execute_result"
    }
   ],
   "source": [
    "## I had some trouble imagining what units are being used\n",
    "## here, but apparently the units are radians. In other words, if an\n",
    "## object is 1 radian in angular size, d_A is the scaling factor that tells\n",
    "## us how many Megaparsecs across it actually is.\n",
    "\n",
    "## With the preceding comment in mind, we convert 0.1 arcseconds to radians\n",
    "## and call that theta, and then ask, for what z is theta * d_A(z) = 0.763kpc.\n",
    "\n",
    "theta = 0.1 * u.arcsec.to(u.rad)\n",
    "\n",
    "desired_d_A = 0.763 * 0.001 * u.Mpc / theta\n",
    "desired_d_A"
   ]
  },
  {
   "cell_type": "code",
   "execution_count": 47,
   "id": "3c1e8d69-8f3f-48f1-9ef2-c0d551f41080",
   "metadata": {},
   "outputs": [
    {
     "data": {
      "text/plain": [
       "(array([ 80,  81,  82,  83,  84,  85,  86,  87,  88,  89,  90,  91,  92,\n",
       "         93,  94,  95,  96,  97,  98,  99, 100, 101, 102, 103, 104, 105,\n",
       "        106, 107, 108, 109, 110, 111, 112, 113, 114, 115, 116, 117, 118,\n",
       "        119, 120, 121, 122, 123, 124, 125, 126, 127, 128, 129, 130, 131,\n",
       "        132, 133, 134, 135, 136, 137, 138, 139, 140, 141, 142, 143, 144,\n",
       "        145, 146, 147, 148, 149, 150, 151, 152, 153, 154, 155, 156, 157,\n",
       "        158, 159, 160, 161, 162, 163, 164, 165, 166, 167, 168, 169, 170,\n",
       "        171, 172, 173, 174, 175, 176, 177, 178, 179, 180, 181, 182, 183,\n",
       "        184, 185, 186, 187, 188, 189, 190, 191, 192, 193, 194, 195, 196,\n",
       "        197, 198, 199, 200, 201, 202, 203, 204, 205, 206, 207, 208, 209,\n",
       "        210, 211, 212, 213, 214, 215, 216, 217, 218, 219, 220, 221, 222,\n",
       "        223, 224, 225, 226, 227, 228, 229, 230, 231, 232, 233, 234, 235,\n",
       "        236, 237, 238, 239, 240, 241, 242, 243, 244, 245, 246, 247, 248,\n",
       "        249, 250, 251, 252, 253, 254, 255, 256, 257, 258, 259, 260, 261,\n",
       "        262, 263, 264, 265, 266, 267, 268, 269, 270, 271, 272, 273, 274,\n",
       "        275, 276, 277, 278, 279, 280, 281, 282, 283, 284, 285, 286, 287,\n",
       "        288, 289, 290, 291, 292, 293, 294, 295, 296, 297, 298, 299, 300,\n",
       "        301, 302, 303, 304, 305, 306, 307, 308, 309, 310, 311, 312, 313,\n",
       "        314, 315, 316, 317, 318, 319, 320, 321, 322, 323, 324, 325, 326,\n",
       "        327, 328, 329, 330, 331, 332]),)"
      ]
     },
     "execution_count": 47,
     "metadata": {},
     "output_type": "execute_result"
    }
   ],
   "source": [
    "np.where(values > desired_d_A.value)"
   ]
  },
  {
   "cell_type": "code",
   "execution_count": 48,
   "id": "4c557690-77cd-4710-8496-722f819607be",
   "metadata": {},
   "outputs": [
    {
     "name": "stdout",
     "output_type": "stream",
     "text": [
      "result is between 0.79 and 0.80\n"
     ]
    }
   ],
   "source": [
    "# So inspecting the result of np.where(), the z value\n",
    "# is between the 79th and 80th z index, which would be\n",
    "\n",
    "print(f'result is between {some_zs[79]:.2f} and {some_zs[80]:.2f}')"
   ]
  },
  {
   "cell_type": "markdown",
   "id": "7e1d7919-781a-4927-b81e-b3854bc01566",
   "metadata": {},
   "source": [
    "### Exercise 8.3"
   ]
  },
  {
   "cell_type": "code",
   "execution_count": null,
   "id": "723fc5c5-ecdc-4d09-9001-e952f9c083e8",
   "metadata": {},
   "outputs": [],
   "source": []
  },
  {
   "cell_type": "markdown",
   "id": "50854fb6-25e4-4705-b322-16abb1fd34d6",
   "metadata": {},
   "source": [
    "### Exercise 8.4"
   ]
  },
  {
   "cell_type": "code",
   "execution_count": null,
   "id": "3c4d80a6-4d7c-4f02-b248-97b61768a9a6",
   "metadata": {},
   "outputs": [],
   "source": []
  }
 ],
 "metadata": {
  "kernelspec": {
   "display_name": "Python 3 (ipykernel)",
   "language": "python",
   "name": "python3"
  },
  "language_info": {
   "codemirror_mode": {
    "name": "ipython",
    "version": 3
   },
   "file_extension": ".py",
   "mimetype": "text/x-python",
   "name": "python",
   "nbconvert_exporter": "python",
   "pygments_lexer": "ipython3",
   "version": "3.12.2"
  }
 },
 "nbformat": 4,
 "nbformat_minor": 5
}
