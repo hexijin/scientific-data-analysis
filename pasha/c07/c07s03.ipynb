{
 "cells": [
  {
   "cell_type": "markdown",
   "id": "73905c73-9e65-493d-a485-d1bec60b5355",
   "metadata": {},
   "source": [
    "## Section 7.3 &mdash; Optimization"
   ]
  },
  {
   "cell_type": "code",
   "execution_count": 8,
   "id": "77f46709-6ac6-449d-a492-876484898108",
   "metadata": {},
   "outputs": [
    {
     "data": {
      "text/plain": [
       "(array([9.39315152e+00, 6.56308937e+03, 1.93574242e-01]),\n",
       " array([[ 8.82386127e-01, -3.85012199e-05, -1.19055649e-02],\n",
       "        [-3.85012199e-05,  5.06430437e-04,  1.51484791e-06],\n",
       "        [-1.19055649e-02,  1.51484791e-06,  4.92288618e-04]]))"
      ]
     },
     "execution_count": 8,
     "metadata": {},
     "output_type": "execute_result"
    }
   ],
   "source": [
    "import numpy as np\n",
    "from scipy.optimize import curve_fit\n",
    "\n",
    "def gauss(x, amp, loc, sigma):\n",
    "    return amp * np.exp(-np.power(x-loc, 2.0)/(2*np.power(sigma, 2.0)))\n",
    "\n",
    "wl = np.linspace(6500, 6600, 500) + 13\n",
    "\n",
    "flux = np.zeros_like(wl)\n",
    "flux[253] = 0.10\n",
    "flux[252] = 1.1\n",
    "flux[251] = 5.01\n",
    "flux[250] = 10.0\n",
    "flux[249] = 4.95\n",
    "flux[248] = 1.2\n",
    "flux[247] = 0.11\n",
    "\n",
    "noise = np.random.normal(0, 1, size=flux.size)\n",
    "flux += noise\n",
    "\n",
    "res = curve_fit(f=gauss, xdata=wl, ydata=flux, p0=[10, 6563, 0.25])\n",
    "res"
   ]
  },
  {
   "cell_type": "code",
   "execution_count": 9,
   "id": "c2360d1d-bb03-486d-8b74-933749ba789b",
   "metadata": {},
   "outputs": [],
   "source": [
    "## To be continued on p. 7-7"
   ]
  },
  {
   "cell_type": "code",
   "execution_count": null,
   "id": "ec98275d-8407-45e8-802f-0802b76db7f1",
   "metadata": {},
   "outputs": [],
   "source": []
  }
 ],
 "metadata": {
  "kernelspec": {
   "display_name": "Python 3 (ipykernel)",
   "language": "python",
   "name": "python3"
  },
  "language_info": {
   "codemirror_mode": {
    "name": "ipython",
    "version": 3
   },
   "file_extension": ".py",
   "mimetype": "text/x-python",
   "name": "python",
   "nbconvert_exporter": "python",
   "pygments_lexer": "ipython3",
   "version": "3.12.2"
  }
 },
 "nbformat": 4,
 "nbformat_minor": 5
}
