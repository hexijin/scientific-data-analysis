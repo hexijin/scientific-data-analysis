{
 "cells": [
  {
   "cell_type": "markdown",
   "id": "04981ad7-cad7-4c75-8e26-432900f1b2b5",
   "metadata": {},
   "source": [
    "## Chapter 8: Astropy and Associated Packages"
   ]
  },
  {
   "cell_type": "markdown",
   "id": "9b418f58-7cdf-4a42-baeb-aac7016dd87f",
   "metadata": {},
   "source": [
    "### Section 1: Units and Constants"
   ]
  },
  {
   "cell_type": "code",
   "execution_count": 1,
   "id": "bff56b89-e280-41d4-bb70-50fd40398559",
   "metadata": {},
   "outputs": [],
   "source": [
    "import astropy.units as u\n",
    "\n",
    "L = 3 * u.Lsun"
   ]
  },
  {
   "cell_type": "code",
   "execution_count": null,
   "id": "f18cddcd-e319-41c6-9893-824919b1cc46",
   "metadata": {},
   "outputs": [],
   "source": []
  }
 ],
 "metadata": {
  "kernelspec": {
   "display_name": "Python 3 (ipykernel)",
   "language": "python",
   "name": "python3"
  },
  "language_info": {
   "codemirror_mode": {
    "name": "ipython",
    "version": 3
   },
   "file_extension": ".py",
   "mimetype": "text/x-python",
   "name": "python",
   "nbconvert_exporter": "python",
   "pygments_lexer": "ipython3",
   "version": "3.12.2"
  }
 },
 "nbformat": 4,
 "nbformat_minor": 5
}
