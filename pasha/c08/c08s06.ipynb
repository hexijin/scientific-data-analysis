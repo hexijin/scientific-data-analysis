{
 "cells": [
  {
   "cell_type": "markdown",
   "id": "9b418f58-7cdf-4a42-baeb-aac7016dd87f",
   "metadata": {},
   "source": [
    "## The Research Example in Chapter 8, Section 6: Automatic Offsets"
   ]
  },
  {
   "cell_type": "code",
   "execution_count": 17,
   "id": "f18cddcd-e319-41c6-9893-824919b1cc46",
   "metadata": {},
   "outputs": [
    {
     "name": "stdout",
     "output_type": "stream",
     "text": [
      "INFO: Query finished. [astroquery.utils.tap.core]\n"
     ]
    },
    {
     "ename": "NoMatchesError",
     "evalue": "No stars match the search criteria",
     "output_type": "error",
     "traceback": [
      "\u001b[0;31m---------------------------------------------------------------------------\u001b[0m",
      "\u001b[0;31mNoMatchesError\u001b[0m                            Traceback (most recent call last)",
      "Cell \u001b[0;32mIn[17], line 30\u001b[0m\n\u001b[1;32m     27\u001b[0m     \u001b[38;5;28;01mreturn\u001b[39;00m best_star_coord, offsets_arcsec\n\u001b[1;32m     29\u001b[0m coordinate \u001b[38;5;241m=\u001b[39m SkyCoord\u001b[38;5;241m.\u001b[39mfrom_name(\u001b[38;5;124m'\u001b[39m\u001b[38;5;124mM81\u001b[39m\u001b[38;5;124m'\u001b[39m)\n\u001b[0;32m---> 30\u001b[0m coord_star, os \u001b[38;5;241m=\u001b[39m find_offset_star(coordinate)\n",
      "Cell \u001b[0;32mIn[17], line 20\u001b[0m, in \u001b[0;36mfind_offset_star\u001b[0;34m(target_coordinate, cone_radius, limiting_magnitude)\u001b[0m\n\u001b[1;32m     18\u001b[0m r \u001b[38;5;241m=\u001b[39m r[r[\u001b[38;5;124m'\u001b[39m\u001b[38;5;124mphot_g_mean_mag\u001b[39m\u001b[38;5;124m'\u001b[39m] \u001b[38;5;241m<\u001b[39m limiting_magnitude]\n\u001b[1;32m     19\u001b[0m \u001b[38;5;28;01mif\u001b[39;00m \u001b[38;5;28mlen\u001b[39m(r) \u001b[38;5;241m==\u001b[39m \u001b[38;5;241m0\u001b[39m:\n\u001b[0;32m---> 20\u001b[0m     \u001b[38;5;28;01mraise\u001b[39;00m NoMatchesError(\u001b[38;5;124m'\u001b[39m\u001b[38;5;124mNo stars match the search criteria\u001b[39m\u001b[38;5;124m'\u001b[39m)\n\u001b[1;32m     21\u001b[0m star_coords \u001b[38;5;241m=\u001b[39m SkyCoord(ra\u001b[38;5;241m=\u001b[39mr[\u001b[38;5;124m'\u001b[39m\u001b[38;5;124mra\u001b[39m\u001b[38;5;124m'\u001b[39m], dec\u001b[38;5;241m=\u001b[39mr[\u001b[38;5;124m'\u001b[39m\u001b[38;5;124mdec\u001b[39m\u001b[38;5;124m'\u001b[39m], unit\u001b[38;5;241m=\u001b[39m\u001b[38;5;124m'\u001b[39m\u001b[38;5;124mdeg\u001b[39m\u001b[38;5;124m'\u001b[39m)\n\u001b[1;32m     22\u001b[0m all_separations \u001b[38;5;241m=\u001b[39m target_coordinate\u001b[38;5;241m.\u001b[39mseparation(star_coords)\n",
      "\u001b[0;31mNoMatchesError\u001b[0m: No stars match the search criteria"
     ]
    }
   ],
   "source": [
    "import numpy as np\n",
    "import astropy.units as u\n",
    "from astroquery.gaia import Gaia\n",
    "from astropy.coordinates import SkyCoord\n",
    "\n",
    "class NoMatchesError(Exception):\n",
    "    pass\n",
    "\n",
    "Gaia.MAIN_GAIA_TABLE = \"gaiadr3.gaia_source\"\n",
    "Gaia.ROW_LIMIT = 500\n",
    "\n",
    "def find_offset_star(target_coordinate:SkyCoord,\n",
    "                     cone_radius:u.Quantity = 2*u.arcmin,\n",
    "                     limiting_magnitude:float=10.0):\n",
    "    j = Gaia.cone_search_async(target_coordinate,\n",
    "                               radius=cone_radius)\n",
    "    r = j.get_results()\n",
    "    r = r[r['phot_g_mean_mag'] < limiting_magnitude]\n",
    "    if len(r) == 0:\n",
    "        raise NoMatchesError('No stars match the search criteria')\n",
    "    star_coords = SkyCoord(ra=r['ra'], dec=r['dec'], unit='deg')\n",
    "    all_separations = target_coordinate.separation(star_coords)\n",
    "    ind = np.argmin(all_separations)\n",
    "    best_star_coord = SkyCoord(r['ra'][ind], dec=r['dec'][ind], unit='deg')\n",
    "    final_offset = best_star_coord.spherical_offsets_to(target_coordinate)\n",
    "    offsets_arcsec = [i.to(u.arcsec) for i in final_offset]\n",
    "    return best_star_coord, offsets_arcsec\n",
    "\n",
    "coordinate = SkyCoord.from_name('M81')\n",
    "coord_star, os = find_offset_star(coordinate)\n"
   ]
  },
  {
   "cell_type": "code",
   "execution_count": null,
   "id": "e3938653-be68-4ce3-a409-2f81fbab6b9b",
   "metadata": {},
   "outputs": [],
   "source": []
  }
 ],
 "metadata": {
  "kernelspec": {
   "display_name": "Python 3 (ipykernel)",
   "language": "python",
   "name": "python3"
  },
  "language_info": {
   "codemirror_mode": {
    "name": "ipython",
    "version": 3
   },
   "file_extension": ".py",
   "mimetype": "text/x-python",
   "name": "python",
   "nbconvert_exporter": "python",
   "pygments_lexer": "ipython3",
   "version": "3.12.2"
  }
 },
 "nbformat": 4,
 "nbformat_minor": 5
}
