{
 "cells": [
  {
   "cell_type": "markdown",
   "id": "9b418f58-7cdf-4a42-baeb-aac7016dd87f",
   "metadata": {},
   "source": [
    "## The Research Example in Chapter 8, Section 6: Automatic Offsets"
   ]
  },
  {
   "cell_type": "code",
   "execution_count": 2,
   "id": "f18cddcd-e319-41c6-9893-824919b1cc46",
   "metadata": {},
   "outputs": [
    {
     "name": "stdout",
     "output_type": "stream",
     "text": [
      "INFO: Query finished. [astroquery.utils.tap.core]\n"
     ]
    }
   ],
   "source": [
    "import numpy as np\n",
    "import astropy.units as u\n",
    "from astroquery.gaia import Gaia\n",
    "from astropy.coordinates import SkyCoord\n",
    "\n",
    "class NoMatchesError(Exception):\n",
    "    pass\n",
    "\n",
    "Gaia.MAIN_GAIA_TABLE = \"gaiadr3.gaia_source\"\n",
    "Gaia.ROW_LIMIT = 500\n",
    "\n",
    "def find_offset_star(target_coordinate:SkyCoord,\n",
    "                     cone_radius:u.Quantity = 2*u.arcmin,\n",
    "                     limiting_magnitude:float=15.0):\n",
    "    j = Gaia.cone_search_async(target_coordinate,\n",
    "                               radius=cone_radius)\n",
    "    r = j.get_results()\n",
    "    r = r[r['phot_g_mean_mag'] < limiting_magnitude]\n",
    "    if len(r) == 0:\n",
    "        raise NoMatchesError('No stars match the search criteria')\n",
    "    star_coords = SkyCoord(ra=r['ra'], dec=r['dec'], unit='deg')\n",
    "    all_separations = target_coordinate.separation(star_coords)\n",
    "    ind = np.argmin(all_separations)\n",
    "    best_star_coord = SkyCoord(ra=r['ra'][ind], dec=r['dec'][ind], unit='deg')\n",
    "    final_offset = best_star_coord.spherical_offsets_to(target_coordinate)\n",
    "    offsets_arcsec = [i.to(u.arcsec) for i in final_offset]\n",
    "    return best_star_coord, offsets_arcsec\n",
    "\n",
    "coordinate = SkyCoord.from_name('M81')\n",
    "coord_star, os = find_offset_star(coordinate)"
   ]
  },
  {
   "cell_type": "code",
   "execution_count": 3,
   "id": "e3938653-be68-4ce3-a409-2f81fbab6b9b",
   "metadata": {},
   "outputs": [
    {
     "data": {
      "text/plain": [
       "[<Angle 39.23849035 arcsec>, <Angle 4.08555925 arcsec>]"
      ]
     },
     "execution_count": 3,
     "metadata": {},
     "output_type": "execute_result"
    }
   ],
   "source": [
    "os"
   ]
  },
  {
   "cell_type": "code",
   "execution_count": null,
   "id": "2c01c957-7634-4392-a1b2-9e3fc5977244",
   "metadata": {},
   "outputs": [],
   "source": []
  }
 ],
 "metadata": {
  "kernelspec": {
   "display_name": "Python 3 (ipykernel)",
   "language": "python",
   "name": "python3"
  },
  "language_info": {
   "codemirror_mode": {
    "name": "ipython",
    "version": 3
   },
   "file_extension": ".py",
   "mimetype": "text/x-python",
   "name": "python",
   "nbconvert_exporter": "python",
   "pygments_lexer": "ipython3",
   "version": "3.12.2"
  }
 },
 "nbformat": 4,
 "nbformat_minor": 5
}
