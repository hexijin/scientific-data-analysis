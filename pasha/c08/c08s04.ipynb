{
 "cells": [
  {
   "cell_type": "markdown",
   "id": "9b418f58-7cdf-4a42-baeb-aac7016dd87f",
   "metadata": {},
   "source": [
    "### Section 4: Coordinates"
   ]
  },
  {
   "cell_type": "code",
   "execution_count": 4,
   "id": "f18cddcd-e319-41c6-9893-824919b1cc46",
   "metadata": {},
   "outputs": [
    {
     "data": {
      "text/plain": [
       "'09h55m33.17265565s +69d03m55.06250537s'"
      ]
     },
     "execution_count": 4,
     "metadata": {},
     "output_type": "execute_result"
    }
   ],
   "source": [
    "from astropy.coordinates import SkyCoord\n",
    "\n",
    "coordinate = SkyCoord.from_name('M81')\n",
    "coordinate.to_string('hmsdms')"
   ]
  },
  {
   "cell_type": "code",
   "execution_count": 7,
   "id": "d04d06de-7fb6-4b58-a38a-c3086530c2a9",
   "metadata": {},
   "outputs": [
    {
     "data": {
      "text/plain": [
       "[<Angle -1.22275264 arcsec>, <Angle 14.95851484 arcsec>]"
      ]
     },
     "execution_count": 7,
     "metadata": {},
     "output_type": "execute_result"
    }
   ],
   "source": [
    "import astropy.units as u\n",
    "\n",
    "offset_star = SkyCoord(ra=148.88917, dec=69.06114, unit='deg')\n",
    "\n",
    "offset = offset_star.spherical_offsets_to(coordinate)\n",
    "\n",
    "offsets = [i.to(u.arcsec) for i in offset]\n",
    "offsets"
   ]
  }
 ],
 "metadata": {
  "kernelspec": {
   "display_name": "Python 3 (ipykernel)",
   "language": "python",
   "name": "python3"
  },
  "language_info": {
   "codemirror_mode": {
    "name": "ipython",
    "version": 3
   },
   "file_extension": ".py",
   "mimetype": "text/x-python",
   "name": "python",
   "nbconvert_exporter": "python",
   "pygments_lexer": "ipython3",
   "version": "3.12.2"
  }
 },
 "nbformat": 4,
 "nbformat_minor": 5
}
