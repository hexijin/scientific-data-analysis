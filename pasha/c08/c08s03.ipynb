{
 "cells": [
  {
   "cell_type": "markdown",
   "id": "9b418f58-7cdf-4a42-baeb-aac7016dd87f",
   "metadata": {},
   "source": [
    "### Section 3: Cosmological Calculations"
   ]
  },
  {
   "cell_type": "code",
   "execution_count": 1,
   "id": "bff56b89-e280-41d4-bb70-50fd40398559",
   "metadata": {},
   "outputs": [],
   "source": []
  }
 ],
 "metadata": {
  "kernelspec": {
   "display_name": "Python 3 (ipykernel)",
   "language": "python",
   "name": "python3"
  },
  "language_info": {
   "codemirror_mode": {
    "name": "ipython",
    "version": 3
   },
   "file_extension": ".py",
   "mimetype": "text/x-python",
   "name": "python",
   "nbconvert_exporter": "python",
   "pygments_lexer": "ipython3",
   "version": "3.12.2"
  }
 },
 "nbformat": 4,
 "nbformat_minor": 5
}
