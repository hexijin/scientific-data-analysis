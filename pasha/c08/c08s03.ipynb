{
 "cells": [
  {
   "cell_type": "markdown",
   "id": "9b418f58-7cdf-4a42-baeb-aac7016dd87f",
   "metadata": {},
   "source": [
    "### Section 3: Cosmological Calculations"
   ]
  },
  {
   "cell_type": "code",
   "execution_count": 1,
   "id": "bff56b89-e280-41d4-bb70-50fd40398559",
   "metadata": {},
   "outputs": [
    {
     "data": {
      "text/latex": [
       "$2080.4774 \\; \\mathrm{Mpc}$"
      ],
      "text/plain": [
       "<Quantity 2080.47740748 Mpc>"
      ]
     },
     "execution_count": 1,
     "metadata": {},
     "output_type": "execute_result"
    }
   ],
   "source": [
    "import numpy as np\n",
    "from astropy.cosmology import WMAP9 as cosmo\n",
    "\n",
    "cosmo.comoving_distance(z=0.55)"
   ]
  },
  {
   "cell_type": "code",
   "execution_count": 2,
   "id": "5b9ae446-65fb-4c7a-9d1d-55ffb0c51602",
   "metadata": {},
   "outputs": [
    {
     "data": {
      "text/latex": [
       "$16855.095 \\; \\mathrm{Mpc}$"
      ],
      "text/plain": [
       "<Quantity 16855.09481854 Mpc>"
      ]
     },
     "execution_count": 2,
     "metadata": {},
     "output_type": "execute_result"
    }
   ],
   "source": [
    "cosmo.luminosity_distance(z=2.1)"
   ]
  },
  {
   "cell_type": "markdown",
   "id": "d7bb67a7-0972-495d-8376-52ece2abd3a5",
   "metadata": {},
   "source": [
    "#### Exercises 8.1 and 8.2 are in Problem Set 4"
   ]
  },
  {
   "cell_type": "code",
   "execution_count": null,
   "id": "ee0411ce-5a50-4146-88c1-e765c45ffb3e",
   "metadata": {},
   "outputs": [],
   "source": []
  }
 ],
 "metadata": {
  "kernelspec": {
   "display_name": "Python 3 (ipykernel)",
   "language": "python",
   "name": "python3"
  },
  "language_info": {
   "codemirror_mode": {
    "name": "ipython",
    "version": 3
   },
   "file_extension": ".py",
   "mimetype": "text/x-python",
   "name": "python",
   "nbconvert_exporter": "python",
   "pygments_lexer": "ipython3",
   "version": "3.12.2"
  }
 },
 "nbformat": 4,
 "nbformat_minor": 5
}
